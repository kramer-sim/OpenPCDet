{
 "cells": [
  {
   "cell_type": "code",
   "execution_count": 17,
   "id": "b20bfba6",
   "metadata": {},
   "outputs": [
    {
     "name": "stdout",
     "output_type": "stream",
     "text": [
      "/home/berademirhan/OpenPCDet/pcdet/utils/loss_utils.py:152: FutureWarning: `torch.cuda.amp.custom_fwd(args...)` is deprecated. Please use `torch.amp.custom_fwd(args..., device_type='cuda')` instead.\n",
      "  @torch.cuda.amp.custom_fwd(cast_inputs=torch.float16)\n",
      "2025-04-29 20:14:58,970   INFO  -----------------Quick Demo of OpenPCDet-------------------------\n",
      "2025-04-29 20:14:58,970   INFO  Total number of samples: \t1\n",
      "/home/berademirhan/miniconda3/envs/openpcdet_py39/lib/python3.9/site-packages/torch/functional.py:539: UserWarning: torch.meshgrid: in an upcoming release, it will be required to pass the indexing argument. (Triggered internally at /pytorch/aten/src/ATen/native/TensorShape.cpp:3637.)\n",
      "  return _VF.meshgrid(tensors, **kwargs)  # type: ignore[attr-defined]\n",
      "2025-04-29 20:14:59,223   INFO  ==> Loading parameters from checkpoint pv_rcnn_8369.pth to CPU\n",
      "2025-04-29 20:14:59,281   INFO  ==> Done (loaded 367/367)\n",
      "2025-04-29 20:14:59,492   INFO  Visualized sample index: \t1\n",
      "/home/berademirhan/OpenPCDet/pcdet/ops/pointnet2/pointnet2_stack/pointnet2_utils.py:177: UserWarning: The torch.cuda.*DtypeTensor constructors are no longer recommended. It's best to use methods such as torch.tensor(data, dtype=*, device='cuda') to create tensors. (Triggered internally at /pytorch/torch/csrc/tensor/python_tensor.cpp:78.)\n",
      "  output = torch.cuda.IntTensor(B, npoint)\n",
      "\u001b[1;33m[Open3D WARNING] GLFW Error: Failed to detect any supported platform\u001b[0;m\n",
      "\u001b[1;33m[Open3D WARNING] GLFW initialized for headless rendering.\u001b[0;m\n",
      "\u001b[1;33m[Open3D WARNING] GLFW Error: OSMesa: Library not found\u001b[0;m\n",
      "\u001b[1;33m[Open3D WARNING] Failed to create window\u001b[0;m\n",
      "Traceback (most recent call last):\n",
      "  File \"/home/berademirhan/OpenPCDet/tools/demo.py\", line 112, in <module>\n",
      "    main()\n",
      "  File \"/home/berademirhan/OpenPCDet/tools/demo.py\", line 100, in main\n",
      "    V.draw_scenes(\n",
      "  File \"/home/berademirhan/OpenPCDet/tools/visual_utils/open3d_vis_utils.py\", line 49, in draw_scenes\n",
      "    vis.get_render_option().point_size = 1.0\n",
      "AttributeError: 'NoneType' object has no attribute 'point_size'\n"
     ]
    }
   ],
   "source": [
    "!python demo.py \\\n",
    "  --cfg_file cfgs/kitti_models/pv_rcnn.yaml \\\n",
    "  --ckpt pv_rcnn_8369.pth \\\n",
    "  --data_path /data/data/demirhan_kramer_WiSe2425/velodyne/training/velodyne/000008.bin\n",
    "\n"
   ]
  },
  {
   "cell_type": "code",
   "execution_count": 13,
   "id": "7e7849e5",
   "metadata": {},
   "outputs": [
    {
     "name": "stdout",
     "output_type": "stream",
     "text": [
      "/home/berademirhan/OpenPCDet/pcdet/utils/loss_utils.py:152: FutureWarning: `torch.cuda.amp.custom_fwd(args...)` is deprecated. Please use `torch.amp.custom_fwd(args..., device_type='cuda')` instead.\n",
      "  @torch.cuda.amp.custom_fwd(cast_inputs=torch.float16)\n",
      "2025-05-07 12:47:31,644   INFO  -----------------Headless Demo Saving 3D Data-------------------------\n",
      "/home/berademirhan/miniconda3/envs/openpcdet_py39/lib/python3.9/site-packages/torch/functional.py:539: UserWarning: torch.meshgrid: in an upcoming release, it will be required to pass the indexing argument. (Triggered internally at /pytorch/aten/src/ATen/native/TensorShape.cpp:3637.)\n",
      "  return _VF.meshgrid(tensors, **kwargs)  # type: ignore[attr-defined]\n",
      "2025-05-07 12:47:31,996   INFO  ==> Loading parameters from checkpoint pv_rcnn_8369.pth to CPU\n",
      "2025-05-07 12:47:32,052   INFO  ==> Done (loaded 367/367)\n",
      "/home/berademirhan/OpenPCDet/pcdet/ops/pointnet2/pointnet2_stack/pointnet2_utils.py:177: UserWarning: The torch.cuda.*DtypeTensor constructors are no longer recommended. It's best to use methods such as torch.tensor(data, dtype=*, device='cuda') to create tensors. (Triggered internally at /pytorch/torch/csrc/tensor/python_tensor.cpp:78.)\n",
      "  output = torch.cuda.IntTensor(B, npoint)\n",
      "2025-05-07 12:47:33,189   INFO  Saved: /home/berademirhan/OpenPCDet/results/velodyne_000009/sample_000.ply and /home/berademirhan/OpenPCDet/results/velodyne_000009/sample_000_pred.json\n",
      "2025-05-07 12:47:33,189   INFO  Done saving all outputs.\n"
     ]
    }
   ],
   "source": [
    "!python demo_ssh.py \\\n",
    "  --cfg_file cfgs/kitti_models/pv_rcnn.yaml \\\n",
    "  --ckpt pv_rcnn_8369.pth \\\n",
    "  --data_path /data/data/demirhan_kramer_WiSe2425/velodyne/training/velodyne/000009.bin "
   ]
  },
  {
   "cell_type": "code",
   "execution_count": 15,
   "id": "80a31099",
   "metadata": {},
   "outputs": [
    {
     "name": "stdout",
     "output_type": "stream",
     "text": [
      "/home/berademirhan/OpenPCDet/pcdet/utils/loss_utils.py:152: FutureWarning: `torch.cuda.amp.custom_fwd(args...)` is deprecated. Please use `torch.amp.custom_fwd(args..., device_type='cuda')` instead.\n",
      "  @torch.cuda.amp.custom_fwd(cast_inputs=torch.float16)\n",
      "2025-05-07 14:45:50,025   INFO  -----------------Headless BEVFusion NuScenes Demo-------------------------\n",
      "2025-05-07 14:45:50,025   INFO  Loading NuScenes dataset\n",
      "2025-05-07 14:45:50,033   INFO  Total samples for NuScenes dataset: 81\n",
      "2025-05-07 14:45:50,033   INFO  Running inference on 3 samples.\n",
      "/home/berademirhan/miniconda3/envs/openpcdet_py39/lib/python3.9/site-packages/torch/functional.py:539: UserWarning: torch.meshgrid: in an upcoming release, it will be required to pass the indexing argument. (Triggered internally at /pytorch/aten/src/ATen/native/TensorShape.cpp:3637.)\n",
      "  return _VF.meshgrid(tensors, **kwargs)  # type: ignore[attr-defined]\n",
      "2025-05-07 14:45:50,311   INFO  ==> Loading parameters from checkpoint cbgs_bevfusion.pth to CPU\n",
      "2025-05-07 14:45:50,437   INFO  ==> Done (loaded 583/583)\n",
      "2025-05-07 14:45:50,904   INFO  Processing sample 1/3\n",
      "2025-05-07 14:45:50,910   INFO  Saving CAM_BACK image to: /home/berademirhan/OpenPCDet/results/bev/sample_000/CAM_BACK.jpg\n",
      "2025-05-07 14:45:50,911   INFO  Saving CAM_BACK_LEFT image to: /home/berademirhan/OpenPCDet/results/bev/sample_000/CAM_BACK_LEFT.jpg\n",
      "2025-05-07 14:45:50,911   INFO  Saving CAM_BACK_RIGHT image to: /home/berademirhan/OpenPCDet/results/bev/sample_000/CAM_BACK_RIGHT.jpg\n",
      "2025-05-07 14:45:50,912   INFO  Saving CAM_FRONT image to: /home/berademirhan/OpenPCDet/results/bev/sample_000/CAM_FRONT.jpg\n",
      "2025-05-07 14:45:50,912   INFO  Saving CAM_FRONT_LEFT image to: /home/berademirhan/OpenPCDet/results/bev/sample_000/CAM_FRONT_LEFT.jpg\n",
      "2025-05-07 14:45:50,913   INFO  Saving CAM_FRONT_RIGHT image to: /home/berademirhan/OpenPCDet/results/bev/sample_000/CAM_FRONT_RIGHT.jpg\n",
      "/home/berademirhan/OpenPCDet/pcdet/ops/iou3d_nms/iou3d_nms_utils.py:66: UserWarning: The torch.cuda.*DtypeTensor constructors are no longer recommended. It's best to use methods such as torch.tensor(data, dtype=*, device='cuda') to create tensors. (Triggered internally at /pytorch/torch/csrc/tensor/python_tensor.cpp:78.)\n",
      "  overlaps_bev = torch.cuda.FloatTensor(torch.Size((boxes_a.shape[0], boxes_b.shape[0]))).zero_()  # (N, M)\n",
      "token:  3e8750f331d7499e9b5123e9eb70f2e2\n",
      "2025-05-07 14:45:51,996   INFO  Saved: /home/berademirhan/OpenPCDet/results/bev/sample_000.ply and /home/berademirhan/OpenPCDet/results/bev/sample_000_pred.json\n",
      "2025-05-07 14:45:52,145   INFO  Processing sample 2/3\n",
      "2025-05-07 14:45:52,160   INFO  Saving CAM_BACK image to: /home/berademirhan/OpenPCDet/results/bev/sample_001/CAM_BACK.jpg\n",
      "2025-05-07 14:45:52,161   INFO  Saving CAM_BACK_LEFT image to: /home/berademirhan/OpenPCDet/results/bev/sample_001/CAM_BACK_LEFT.jpg\n",
      "2025-05-07 14:45:52,161   INFO  Saving CAM_BACK_RIGHT image to: /home/berademirhan/OpenPCDet/results/bev/sample_001/CAM_BACK_RIGHT.jpg\n",
      "2025-05-07 14:45:52,161   INFO  Saving CAM_FRONT image to: /home/berademirhan/OpenPCDet/results/bev/sample_001/CAM_FRONT.jpg\n",
      "2025-05-07 14:45:52,162   INFO  Saving CAM_FRONT_LEFT image to: /home/berademirhan/OpenPCDet/results/bev/sample_001/CAM_FRONT_LEFT.jpg\n",
      "2025-05-07 14:45:52,162   INFO  Saving CAM_FRONT_RIGHT image to: /home/berademirhan/OpenPCDet/results/bev/sample_001/CAM_FRONT_RIGHT.jpg\n",
      "token:  3950bd41f74548429c0f7700ff3d8269\n",
      "2025-05-07 14:45:52,466   INFO  Saved: /home/berademirhan/OpenPCDet/results/bev/sample_001.ply and /home/berademirhan/OpenPCDet/results/bev/sample_001_pred.json\n",
      "2025-05-07 14:45:52,617   INFO  Processing sample 3/3\n",
      "2025-05-07 14:45:52,629   INFO  Saving CAM_BACK image to: /home/berademirhan/OpenPCDet/results/bev/sample_002/CAM_BACK.jpg\n",
      "2025-05-07 14:45:52,630   INFO  Saving CAM_BACK_LEFT image to: /home/berademirhan/OpenPCDet/results/bev/sample_002/CAM_BACK_LEFT.jpg\n",
      "2025-05-07 14:45:52,630   INFO  Saving CAM_BACK_RIGHT image to: /home/berademirhan/OpenPCDet/results/bev/sample_002/CAM_BACK_RIGHT.jpg\n",
      "2025-05-07 14:45:52,631   INFO  Saving CAM_FRONT image to: /home/berademirhan/OpenPCDet/results/bev/sample_002/CAM_FRONT.jpg\n",
      "2025-05-07 14:45:52,631   INFO  Saving CAM_FRONT_LEFT image to: /home/berademirhan/OpenPCDet/results/bev/sample_002/CAM_FRONT_LEFT.jpg\n",
      "2025-05-07 14:45:52,632   INFO  Saving CAM_FRONT_RIGHT image to: /home/berademirhan/OpenPCDet/results/bev/sample_002/CAM_FRONT_RIGHT.jpg\n",
      "token:  c5f58c19249d4137ae063b0e9ecd8b8e\n",
      "2025-05-07 14:45:52,930   INFO  Saved: /home/berademirhan/OpenPCDet/results/bev/sample_002.ply and /home/berademirhan/OpenPCDet/results/bev/sample_002_pred.json\n",
      "2025-05-07 14:45:52,931   INFO  Done saving all outputs.\n"
     ]
    }
   ],
   "source": [
    "!python demo_bev.py \\\n",
    "  --cfg_file cfgs/nuscenes_models/bevfusion.yaml \\\n",
    "  --ckpt cbgs_bevfusion.pth \\\n",
    "  --data_path /data/data/demirhan_kramer_WiSe2425/nuscenes \\\n",
    "  --output_dir /home/berademirhan/OpenPCDet/results/bev \\\n",
    "  --num_samples 3\n"
   ]
  },
  {
   "cell_type": "code",
   "execution_count": 46,
   "id": "3837d7ca",
   "metadata": {},
   "outputs": [
    {
     "name": "stdout",
     "output_type": "stream",
     "text": [
      "/home/berademirhan/miniconda3/envs/openpcdet_py39/lib/python3.9/runpy.py:127: RuntimeWarning: 'pcdet.datasets.nuscenes.nuscenes_dataset' found in sys.modules after import of package 'pcdet.datasets.nuscenes', but prior to execution of 'pcdet.datasets.nuscenes.nuscenes_dataset'; this may result in unpredictable behaviour\n",
      "  warn(RuntimeWarning(msg))\n",
      "======\n",
      "Loading NuScenes tables for version v1.0-mini...\n",
      "23 category,\n",
      "8 attribute,\n",
      "4 visibility,\n",
      "911 instance,\n",
      "12 sensor,\n",
      "120 calibrated_sensor,\n",
      "31206 ego_pose,\n",
      "8 log,\n",
      "10 scene,\n",
      "404 sample,\n",
      "31206 sample_data,\n",
      "18538 sample_annotation,\n",
      "4 map,\n",
      "Done loading in 0.3 seconds.\n",
      "======\n",
      "Reverse indexing ...\n",
      "Done reverse indexing in 0.1 seconds.\n",
      "======\n",
      "total scene num: 10\n",
      "exist scene num: 10\n",
      "v1.0-mini: train scene(8), val scene(2)\n",
      "create_info: 100%|████████████████████████████| 404/404 [00:22<00:00, 17.70it/s]\n",
      "train sample: 323, val sample: 81\n",
      "2025-04-29 21:07:59,768   INFO  Loading NuScenes dataset\n",
      "2025-04-29 21:07:59,792   INFO  Total samples for NuScenes dataset: 323\n",
      "100%|█████████████████████████████████████████| 323/323 [00:11<00:00, 27.19it/s]\n",
      "Database pedestrian: 3068\n",
      "Database car: 4082\n",
      "Database traffic_cone: 773\n",
      "Database bicycle: 147\n",
      "Database barrier: 1851\n",
      "Database truck: 451\n",
      "Database bus: 337\n",
      "Database construction_vehicle: 174\n",
      "Database ignore: 95\n",
      "Database motorcycle: 179\n",
      "Database trailer: 59\n"
     ]
    }
   ],
   "source": [
    "!python -m pcdet.datasets.nuscenes.nuscenes_dataset \\\n",
    "  --func create_nuscenes_infos \\\n",
    "  --version v1.0-mini \\\n",
    "  --with_cam \\\n",
    "  --cfg_file cfgs/dataset_configs/nuscenes_dataset.yaml \n"
   ]
  },
  {
   "cell_type": "code",
   "execution_count": 21,
   "id": "ede1a2a9",
   "metadata": {},
   "outputs": [
    {
     "name": "stdout",
     "output_type": "stream",
     "text": [
      "/home/berademirhan/OpenPCDet/pcdet/utils/loss_utils.py:152: FutureWarning: `torch.cuda.amp.custom_fwd(args...)` is deprecated. Please use `torch.amp.custom_fwd(args..., device_type='cuda')` instead.\n",
      "  @torch.cuda.amp.custom_fwd(cast_inputs=torch.float16)\n",
      "2025-05-05 23:48:41,172   INFO  -----------------Headless BEVFusion NuScenes LiDAR-only Demo-------------------------\n",
      "Camera config for RGB Images set to False\n",
      "Image processors have been removed from data processor list.\n",
      "2025-05-05 23:48:41,172   INFO  Loading NuScenes dataset\n",
      "2025-05-05 23:48:41,180   INFO  Total samples for NuScenes dataset: 81\n",
      "2025-05-05 23:48:41,181   INFO  Running inference on 3 samples.\n",
      "/home/berademirhan/miniconda3/envs/openpcdet_py39/lib/python3.9/site-packages/torch/functional.py:539: UserWarning: torch.meshgrid: in an upcoming release, it will be required to pass the indexing argument. (Triggered internally at /pytorch/aten/src/ATen/native/TensorShape.cpp:3637.)\n",
      "  return _VF.meshgrid(tensors, **kwargs)  # type: ignore[attr-defined]\n",
      "2025-05-05 23:48:41,466   INFO  ==> Loading parameters from checkpoint cbgs_bevfusion.pth to CPU\n",
      "2025-05-05 23:48:41,594   INFO  ==> Done (loaded 583/583)\n",
      "2025-05-05 23:48:41,937   INFO  Processing sample 1/3\n",
      "Traceback (most recent call last):\n",
      "  File \"/home/berademirhan/OpenPCDet/tools/demo_bev_lidaronly.py\", line 110, in <module>\n",
      "    main()\n",
      "  File \"/home/berademirhan/OpenPCDet/tools/demo_bev_lidaronly.py\", line 93, in main\n",
      "    pred_dicts, _ = model.forward(data_dict)\n",
      "  File \"/home/berademirhan/OpenPCDet/pcdet/models/detectors/bevfusion.py\", line 62, in forward\n",
      "    batch_dict = cur_module(batch_dict)\n",
      "  File \"/home/berademirhan/miniconda3/envs/openpcdet_py39/lib/python3.9/site-packages/torch/nn/modules/module.py\", line 1739, in _wrapped_call_impl\n",
      "    return self._call_impl(*args, **kwargs)\n",
      "  File \"/home/berademirhan/miniconda3/envs/openpcdet_py39/lib/python3.9/site-packages/torch/nn/modules/module.py\", line 1750, in _call_impl\n",
      "    return forward_call(*args, **kwargs)\n",
      "  File \"/home/berademirhan/OpenPCDet/pcdet/models/backbones_image/swin.py\", line 716, in forward\n",
      "    x = batch_dict['camera_imgs']\n",
      "KeyError: 'camera_imgs'\n"
     ]
    }
   ],
   "source": [
    "!python demo_bev_lidaronly.py \\\n",
    "  --cfg_file cfgs/nuscenes_models/bevfusion.yaml \\\n",
    "  --ckpt cbgs_bevfusion.pth \\\n",
    "  --data_path /data/data/demirhan_kramer_WiSe2425/nuscenes \\\n",
    "  --output_dir /home/berademirhan/OpenPCDet/results/bev_lidaronly \\\n",
    "  --num_samples 3"
   ]
  },
  {
   "cell_type": "code",
   "execution_count": null,
   "id": "ab28e145",
   "metadata": {},
   "outputs": [
    {
     "name": "stdout",
     "output_type": "stream",
     "text": [
      "/home/berademirhan/OpenPCDet/pcdet/utils/loss_utils.py:152: FutureWarning: `torch.cuda.amp.custom_fwd(args...)` is deprecated. Please use `torch.amp.custom_fwd(args..., device_type='cuda')` instead.\n",
      "  @torch.cuda.amp.custom_fwd(cast_inputs=torch.float16)\n",
      "2025-05-07 13:11:37,792   INFO  -----------------Headless Demo Saving 3D Data-------------------------\n",
      "/home/berademirhan/miniconda3/envs/openpcdet_py39/lib/python3.9/site-packages/torch/functional.py:539: UserWarning: torch.meshgrid: in an upcoming release, it will be required to pass the indexing argument. (Triggered internally at /pytorch/aten/src/ATen/native/TensorShape.cpp:3637.)\n",
      "  return _VF.meshgrid(tensors, **kwargs)  # type: ignore[attr-defined]\n",
      "2025-05-07 13:11:37,954   INFO  ==> Loading parameters from checkpoint cbgs_transfusion_lidar.pth to CPU\n",
      "2025-05-07 13:11:38,001   INFO  ==> Done (loaded 307/307)\n",
      "2025-05-07 13:11:38,849   INFO  Saved: /home/berademirhan/OpenPCDet/results/transfusion/LIDAR_TOP_n008-2018-08-01-15-16-36-0400__LIDAR_TOP__1533151603547590.pcd/sample_000.ply and /home/berademirhan/OpenPCDet/results/transfusion/LIDAR_TOP_n008-2018-08-01-15-16-36-0400__LIDAR_TOP__1533151603547590.pcd/sample_000_pred.json\n",
      "2025-05-07 13:11:38,849   INFO  Done saving all outputs.\n"
     ]
    }
   ],
   "source": [
    "!python demo_transfusion.py \\\n",
    "  --cfg_file cfgs/nuscenes_models/transfusion_lidar.yaml \\\n",
    "  --ckpt cbgs_transfusion_lidar.pth \\\n",
    "  --output_dir /home/berademirhan/OpenPCDet/results/transfusion \\\n",
    "  --data_path /data/data/demirhan_kramer_WiSe2425/nuscenes/v1.0-mini/samples/LIDAR_TOP/n008-2018-08-01-15-16-36-0400__LIDAR_TOP__1533151603547590.pcd.bin"
   ]
  },
  {
   "cell_type": "code",
   "execution_count": 10,
   "id": "cdf35a56",
   "metadata": {},
   "outputs": [
    {
     "name": "stdout",
     "output_type": "stream",
     "text": [
      "First point (4D): [-2.928421  -0.6136239 -1.7726957 19.       ]\n",
      "First point (5D): [-2.928421  -0.6136239 -1.7726957 19.         0.       ]\n"
     ]
    }
   ],
   "source": [
    "import numpy as np\n",
    "points = np.fromfile(\"/data/data/demirhan_kramer_WiSe2425/nuscenes/v1.0-mini/sweeps/LIDAR_TOP/n015-2018-10-02-10-50-40+0800__LIDAR_TOP__1538448744751017.pcd.bin\", dtype=np.float32)\n",
    "\n",
    "points_4d = points.reshape(-1, 4)\n",
    "points_5d = points.reshape(-1, 5)\n",
    "\n",
    "print(\"First point (4D):\", points_4d[0])\n",
    "print(\"First point (5D):\", points_5d[0])\n"
   ]
  },
  {
   "cell_type": "code",
   "execution_count": 9,
   "id": "5f77e6a3",
   "metadata": {},
   "outputs": [
    {
     "name": "stdout",
     "output_type": "stream",
     "text": [
      "Matched LIDAR file: /data/data/demirhan_kramer_WiSe2425/nuscenes/v1.0-mini/samples/LIDAR_TOP/n015-2018-07-24-11-22-45+0800__LIDAR_TOP__1532402935197541.pcd.bin\n"
     ]
    }
   ],
   "source": [
    "import os\n",
    "\n",
    "def extract_timestamp_from_filename(filename):\n",
    "    \"\"\"Extracts the timestamp (as int) from a nuScenes filename.\"\"\"\n",
    "    return int(filename.split(\"__\")[-1].split(\".\")[0])\n",
    "\n",
    "def find_matching_lidar(cam_file_path, lidar_dir):\n",
    "    \"\"\"Find the closest LIDAR_TOP file (by timestamp) to the CAM_FRONT image file.\"\"\"\n",
    "    cam_filename = os.path.basename(cam_file_path)\n",
    "    cam_timestamp = extract_timestamp_from_filename(cam_filename)\n",
    "\n",
    "    closest_lidar_file = None\n",
    "    min_diff = float('inf')\n",
    "\n",
    "    for fname in os.listdir(lidar_dir):\n",
    "        if not fname.endswith(\".pcd.bin\"):\n",
    "            continue\n",
    "        lidar_timestamp = extract_timestamp_from_filename(fname)\n",
    "        diff = abs(cam_timestamp - lidar_timestamp)\n",
    "        if diff < min_diff:\n",
    "            min_diff = diff\n",
    "            closest_lidar_file = fname\n",
    "\n",
    "    if closest_lidar_file:\n",
    "        return os.path.join(lidar_dir, closest_lidar_file)\n",
    "    else:\n",
    "        return None\n",
    "\n",
    "cam_file = \"/data/data/demirhan_kramer_WiSe2425/nuscenes/v1.0-mini/samples/CAM_FRONT/n015-2018-07-24-11-22-45+0800__CAM_FRONT__1532402935162463.jpg\"\n",
    "lidar_dir = \"/data/data/demirhan_kramer_WiSe2425/nuscenes/v1.0-mini/samples/LIDAR_TOP/\"\n",
    "\n",
    "matched_lidar = find_matching_lidar(cam_file, lidar_dir)\n",
    "print(f\"Matched LIDAR file: {matched_lidar}\")\n"
   ]
  },
  {
   "cell_type": "code",
   "execution_count": null,
   "id": "cdffb42b",
   "metadata": {},
   "outputs": [],
   "source": []
  }
 ],
 "metadata": {
  "kernelspec": {
   "display_name": "openpcdet_py39",
   "language": "python",
   "name": "python3"
  },
  "language_info": {
   "codemirror_mode": {
    "name": "ipython",
    "version": 3
   },
   "file_extension": ".py",
   "mimetype": "text/x-python",
   "name": "python",
   "nbconvert_exporter": "python",
   "pygments_lexer": "ipython3",
   "version": "3.9.21"
  }
 },
 "nbformat": 4,
 "nbformat_minor": 5
}
